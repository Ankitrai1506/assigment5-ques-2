{
 "cells": [
  {
   "cell_type": "raw",
   "id": "a74e52aa",
   "metadata": {},
   "source": [
    "Problem statement Write a Python class called Calculator by completing the tasks below:\n",
    "\n",
    "Task 1\n",
    "\n",
    "👉 Initializer\n",
    "\n",
    "Implement an initializer to initialize the values of num1 and num2. Properties\n",
    "\n",
    "• num1\n",
    "• num2\n",
    "Task 2\n",
    "\n",
    "👉 Methods\n",
    "\n",
    "• add() is a method that returns the sum of num1 and num2.\n",
    "• subtract() is a method that returns the subtraction of num1 from num2.\n",
    "• multiply() is a method that returns the product of num1 and num2.\n",
    "• divide() is a method that returns the division of num2 by num1."
   ]
  },
  {
   "cell_type": "code",
   "execution_count": 1,
   "id": "421d1903",
   "metadata": {},
   "outputs": [
    {
     "name": "stdout",
     "output_type": "stream",
     "text": [
      "Enter the first number12\n",
      "Enter the second number13\n",
      "Sum: 25.0\n",
      "Subtraction: 1.0\n",
      "Multiplication: 156.0\n",
      "Division: 1.0833333333333333\n"
     ]
    }
   ],
   "source": [
    "class Calculator:\n",
    "    def __init__(self, num1, num2):\n",
    "        self.num1 = num1\n",
    "        self.num2 = num2\n",
    "    \n",
    "    def add(self):\n",
    "        return self.num1 + self.num2\n",
    "    \n",
    "    def subtract(self):\n",
    "        return self.num2 - self.num1\n",
    "    \n",
    "    def multiply(self):\n",
    "        return self.num1 * self.num2\n",
    "    \n",
    "    def divide(self):\n",
    "        if self.num1 == 0:\n",
    "            return \"Cannot divide by zero\"\n",
    "        return self.num2 / self.num1\n",
    "\n",
    "num1=float(input(\"Enter the first number\"))\n",
    "num2=float(input(\"Enter the second number\"))\n",
    "calculator = Calculator(num1,num2)\n",
    "\n",
    "sum_result = calculator.add()\n",
    "subtract_result = calculator.subtract()\n",
    "multiply_result = calculator.multiply()\n",
    "divide_result = calculator.divide()\n",
    "\n",
    "print(\"Sum:\", sum_result)\n",
    "print(\"Subtraction:\", subtract_result)\n",
    "print(\"Multiplication:\", multiply_result)\n",
    "print(\"Division:\", divide_result)\n",
    "        "
   ]
  },
  {
   "cell_type": "code",
   "execution_count": null,
   "id": "b69db1f5",
   "metadata": {},
   "outputs": [],
   "source": []
  }
 ],
 "metadata": {
  "kernelspec": {
   "display_name": "Python 3 (ipykernel)",
   "language": "python",
   "name": "python3"
  },
  "language_info": {
   "codemirror_mode": {
    "name": "ipython",
    "version": 3
   },
   "file_extension": ".py",
   "mimetype": "text/x-python",
   "name": "python",
   "nbconvert_exporter": "python",
   "pygments_lexer": "ipython3",
   "version": "3.10.9"
  }
 },
 "nbformat": 4,
 "nbformat_minor": 5
}
